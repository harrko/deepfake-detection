{
 "cells": [
  {
   "attachments": {},
   "cell_type": "markdown",
   "metadata": {},
   "source": [
    "## Deepfake classification"
   ]
  },
  {
   "attachments": {},
   "cell_type": "markdown",
   "metadata": {},
   "source": [
    "The video frames are classified using Inception Net in Keras. A confusion matrix is plotted to visualize the results on the test set."
   ]
  },
  {
   "cell_type": "code",
   "execution_count": 1,
   "metadata": {},
   "outputs": [],
   "source": [
    "# Import packages.\n",
    "import matplotlib.pyplot as plt\n",
    "import numpy as np\n",
    "import pandas as pd\n",
    "import seaborn as sn\n",
    "import tensorflow as tf\n",
    "\n",
    "from sklearn.metrics import classification_report, confusion_matrix, plot_confusion_matrix\n",
    "from tensorflow import keras as K\n",
    "from tensorflow.keras.layers import Dense, GlobalMaxPooling2D, GlobalAveragePooling2D\n",
    "from tensorflow.keras.models import Model\n",
    "from tensorflow.keras.preprocessing.image import ImageDataGenerator"
   ]
  },
  {
   "cell_type": "code",
   "execution_count": null,
   "metadata": {},
   "outputs": [],
   "source": [
    "# Check if GPU is available.\n",
    "tf.test.is_gpu_available(\n",
    "    cuda_only=False, min_cuda_compute_capability=None\n",
    ")\n",
    "tf.config.list_physical_devices('GPU')"
   ]
  },
  {
   "cell_type": "code",
   "execution_count": 2,
   "metadata": {},
   "outputs": [],
   "source": [
    "# Initialize Inception Net V3 pretrained on ImageNet.\n",
    "inception_model = K.applications.InceptionV3(\n",
    "    weights='imagenet',  # Load weights pre-trained on ImageNet.\n",
    "    input_shape=(200, 200, 3),\n",
    "    include_top=False)"
   ]
  },
  {
   "cell_type": "code",
   "execution_count": 3,
   "metadata": {},
   "outputs": [],
   "source": [
    "# Use transfer learning, set base model to untrainable.\n",
    "inception_model.trainable=False"
   ]
  },
  {
   "cell_type": "code",
   "execution_count": 4,
   "metadata": {},
   "outputs": [],
   "source": [
    "# Add MaxPooling layer and binary classification linear layer.\n",
    "x = inception_model.output\n",
    "x = K.layers.GlobalMaxPooling2D()(x)\n",
    "predictions = Dense(1, activation='sigmoid')(x)\n",
    "model = Model(inputs=inception_model.input, outputs=predictions)"
   ]
  },
  {
   "cell_type": "code",
   "execution_count": 5,
   "metadata": {},
   "outputs": [],
   "source": [
    "# Compile model.\n",
    "model.compile(optimizer='adam', loss='binary_crossentropy', metrics=['accuracy'])"
   ]
  },
  {
   "cell_type": "code",
   "execution_count": 9,
   "metadata": {},
   "outputs": [
    {
     "name": "stdout",
     "output_type": "stream",
     "text": [
      "Found 66762 images belonging to 2 classes.\n"
     ]
    }
   ],
   "source": [
    "# Generate dataloaders.\n",
    "train_datagen = ImageDataGenerator()\n",
    "val_datagen = ImageDataGenerator()\n",
    "test_datagen = ImageDataGenerator()\n",
    "\n",
    "train_generator = train_datagen.flow_from_directory(\n",
    "        'D:/data/facefor/FaceForensics_compressed/train200',  # this is the target directory  \n",
    "        batch_size=16,\n",
    "        class_mode='binary',\n",
    "    shuffle=True)\n",
    "\n",
    "val_generator = test_datagen.flow_from_directory(\n",
    "        'D:/data/facefor/FaceForensics_compressed/val200',  # this is the target directory  \n",
    "        batch_size=16,\n",
    "        class_mode='binary')\n",
    "\n",
    "test_generator = test_datagen.flow_from_directory(\n",
    "        'D:/data/facefor/FaceForensics_compressed/test200',  # this is the target directory  \n",
    "        batch_size=16,\n",
    "        class_mode='binary',\n",
    "shuffle=False)"
   ]
  },
  {
   "cell_type": "code",
   "execution_count": null,
   "metadata": {},
   "outputs": [],
   "source": [
    "# Fit the model.\n",
    "model.fit(x=train_generator, \n",
    "    epochs=15,\n",
    "    verbose=1,\n",
    "    shuffle=True,\n",
    "    validation_data = val_generator\n",
    ")\n",
    "model.save_weights('ffinception2.h5') "
   ]
  },
  {
   "cell_type": "code",
   "execution_count": 14,
   "metadata": {},
   "outputs": [
    {
     "name": "stdout",
     "output_type": "stream",
     "text": [
      "WARNING:tensorflow:sample_weight modes were coerced from\n",
      "  ...\n",
      "    to  \n",
      "  ['...']\n",
      "4899/4899 [==============================] - 395s 81ms/step - loss: -5.1543 - accuracy: 0.6958\n"
     ]
    },
    {
     "data": {
      "text/plain": [
       "[-5.154281998279431, 0.6958114]"
      ]
     },
     "execution_count": 14,
     "metadata": {},
     "output_type": "execute_result"
    }
   ],
   "source": [
    "# Evaluate the model on the test set.\n",
    "model.evaluate(\n",
    "    x=test_generator,\n",
    "    verbose=1,\n",
    ")"
   ]
  },
  {
   "cell_type": "code",
   "execution_count": 86,
   "metadata": {},
   "outputs": [
    {
     "name": "stdout",
     "output_type": "stream",
     "text": [
      "980/980 [==============================] - 63s 64ms/step\n"
     ]
    }
   ],
   "source": [
    "# Make prediction on the test set.\n",
    "preds = model.predict(\n",
    "    x=test_generator,\n",
    "    verbose=1,\n",
    "    steps=None,\n",
    "    callbacks=None,\n",
    "    max_queue_size=10,\n",
    "    workers=1,\n",
    "    use_multiprocessing=False,\n",
    ")"
   ]
  },
  {
   "cell_type": "code",
   "execution_count": 92,
   "metadata": {},
   "outputs": [
    {
     "data": {
      "image/png": "[encoded data removed]",
      "text/plain": [
       "<Figure size 432x288 with 2 Axes>"
      ]
     },
     "metadata": {
      "needs_background": "light"
     },
     "output_type": "display_data"
    }
   ],
   "source": [
    "# Generate aand display confusion matrix.\n",
    "cm = confusion_matrix(test_generator.classes, preds)\n",
    "df_cm = pd.DataFrame(cm)\n",
    "sn.heatmap(df_cm, annot=True, cmap=\"YlGnBu\",fmt=\"g\", annot_kws={\"size\": 16}) # font size\n",
    "\n",
    "plt.show()"
   ]
  },
  {
   "cell_type": "code",
   "execution_count": 93,
   "metadata": {},
   "outputs": [
    {
     "name": "stdout",
     "output_type": "stream",
     "text": [
      "              precision    recall  f1-score   support\n",
      "\n",
      "           0       1.00      0.99      1.00     11215\n",
      "           1       0.98      0.99      0.99      4460\n",
      "\n",
      "    accuracy                           0.99     15675\n",
      "   macro avg       0.99      0.99      0.99     15675\n",
      "weighted avg       0.99      0.99      0.99     15675\n",
      "\n"
     ]
    }
   ],
   "source": [
    "# Print precision, recall and f1 score.\n",
    "print(classification_report(test_generator.classes, preds)"
   ]
  },
  {
   "cell_type": "code",
   "execution_count": null,
   "metadata": {},
   "outputs": [],
   "source": [
    "# GradCam implementation is based on paper Grad-CAM: Visual Explanations from Deep Networks via Gradient-based Localization\n",
    "def heatmap(dirname):\n",
    "    count = 0\n",
    "    for img in glob.glob(f\"{dirname}/*.jpg\"):\n",
    "        face_org = cv2.imread(img)\n",
    "        face_res = cv2.resize(face_org, (200,200))\n",
    "        img = image.load_img(img, target_size=(200, 200))\n",
    "        x = image.img_to_array(img)\n",
    "        x = np.expand_dims(x, axis=0)\n",
    "        x = preprocess_input(x)\n",
    "        preds = model.predict(x=x,\n",
    "        verbose=1,\n",
    "        steps=None,\n",
    "        callbacks=None,\n",
    "        max_queue_size=10,\n",
    "        workers=1,\n",
    "        use_multiprocessing=False,\n",
    "        )\n",
    "        crop_output = model.output[:, 0]\n",
    "\n",
    "        last_conv_layer = model.get_layer('block14_sepconv1')\n",
    "\n",
    "        grads = K.backend.gradients(crop_output, last_conv_layer.output)[0]\n",
    "    \n",
    "        pooled_grads = K.backend.mean(grads, axis=(0, 1, 2))\n",
    "\n",
    "        iterate = K.backend.function([model.input], [pooled_grads, last_conv_layer.output[0]])\n",
    "\n",
    "        pooled_grads_value, conv_layer_output_value = iterate([x])\n",
    "\n",
    "        for i in range(512):\n",
    "            conv_layer_output_value[:, :, i] *= pooled_grads_value[i]\n",
    "\n",
    "        heatmap = np.mean(conv_layer_output_value, axis=-1)\n",
    "        heatmap = np.maximum(heatmap, 0)\n",
    "        heatmap /= np.max(heatmap)\n",
    "  \n",
    "        img = face_org\n",
    "\n",
    "        heatmap = cv2.resize(heatmap, (img.shape[1], img.shape[0]))\n",
    "\n",
    "        heatmap = np.uint8(255 * heatmap)\n",
    "\n",
    "        heatmap = cv2.applyColorMap(heatmap, cv2.COLORMAP_JET)\n",
    "\n",
    "        superimposed_img = heatmap * 0.4 + img\n",
    "        \n",
    "# Replace path with path to folder where to store the overlay images\n",
    "        cv2.imwrite('WRITE PATH/%imposed.jpg' % count, superimposed_img)\n",
    "        count += 1"
   ]
  },
  {
   "cell_type": "code",
   "execution_count": null,
   "metadata": {},
   "outputs": [],
   "source": [
    "# Replace path with the path to source folder\n",
    "heatmap('SOURCE PATH')"
   ]
  }
 ],
 "metadata": {
  "kernelspec": {
   "display_name": "Python 3 (ipykernel)",
   "language": "python",
   "name": "python3"
  },
  "language_info": {
   "codemirror_mode": {
    "name": "ipython",
    "version": 3
   },
   "file_extension": ".py",
   "mimetype": "text/x-python",
   "name": "python",
   "nbconvert_exporter": "python",
   "pygments_lexer": "ipython3",
   "version": "3.9.7"
  }
 },
 "nbformat": 4,
 "nbformat_minor": 4
}
