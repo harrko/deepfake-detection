{
 "cells": [
  {
   "cell_type": "code",
   "execution_count": null,
   "metadata": {},
   "outputs": [],
   "source": [
    "import numpy as np\n",
    "import cv2 as cv2\n",
    "import dlib\n",
    "\n",
    "# glob allows looping through all frames in folder\n",
    "import glob\n",
    "\n",
    "# os allows creating directories to save frames\n",
    "import os\n",
    "import tensorflow as tf\n",
    "import keras as k"
   ]
  },
  {
   "cell_type": "code",
   "execution_count": null,
   "metadata": {},
   "outputs": [],
   "source": [
    "# This function gets every 10th frame of the video\n",
    "#\n",
    "# Update the write path to the path desired\n",
    "\n",
    "def get_frames(filename, vidcount):\n",
    "    count = 0\n",
    "    capture = cv2.VideoCapture(filename)\n",
    "    num_frames = int(capture.get(cv2.CAP_PROP_FRAME_COUNT))\n",
    "    for i in range(0, num_frames):\n",
    "        ret = capture.grab()\n",
    "        if i % 10 == 0:\n",
    "            ret, frame = capture.retrieve()\n",
    "            cv2.imwrite(\"WRITE PATH/video%dframe%d.jpg\" % (vidcount, count), frame)\n",
    "            count += 1\n",
    "    capture.release()"
   ]
  },
  {
   "cell_type": "code",
   "execution_count": null,
   "metadata": {},
   "outputs": [],
   "source": [
    "# This function uses dlib to extract the faces of every frame\n",
    "#\n",
    "# Update the write path to the path desired\n",
    "\n",
    "def get_faces(filepath):\n",
    "    images = []\n",
    "    count = 0\n",
    "    for img in glob.glob(os.path.join(filepath, \"*.jpg\")):\n",
    "        img = dlib.load_rgb_image(img)\n",
    "        img = cv2.cvtColor(img, cv2.COLOR_BGR2RGB)\n",
    "        face_detector = dlib.get_frontal_face_detector()\n",
    "        dets = face_detector(img, 1)\n",
    "        for i, d in enumerate(dets):\n",
    "            crop = img[d.top():d.bottom(), d.left():d.right()]\n",
    "            cv2.imwrite('WRITE PATH/facecrop%d.jpg' % count, crop)\n",
    "        count += 1"
   ]
  },
  {
   "cell_type": "code",
   "execution_count": null,
   "metadata": {},
   "outputs": [],
   "source": [
    "# This function resizes the face pictures to 200*200\n",
    "#\n",
    "# Update the write path to the path desired\n",
    "\n",
    "def resize_faces(dirname):\n",
    "    count = 0\n",
    "    for img in glob.glob(f\"{dirname}/*.jpg\"):\n",
    "        face_org = cv2.imread(img)\n",
    "        if face_org is not None:\n",
    "            face_res = cv2.resize(face_org, (200,200))\n",
    "            cv2.imwrite(\"WRITE PATH/resize%d.jpg\" % count, face_res)\n",
    "\n",
    "        count += 1"
   ]
  },
  {
   "cell_type": "code",
   "execution_count": null,
   "metadata": {},
   "outputs": [],
   "source": [
    "# Loops through all mp4 files in folder and extracts frames\n",
    "#\n",
    "# Update source path with path to files\n",
    "\n",
    "vidcount = 0\n",
    "for filename in glob.glob(\"SOURCE PATH/*.mp4\"):\n",
    "    get_frames(filename, vidcount)\n",
    "    vidcount +=1"
   ]
  },
  {
   "cell_type": "code",
   "execution_count": null,
   "metadata": {},
   "outputs": [],
   "source": [
    "# Update path with path to extracted frames\n",
    "get_faces('FRAME PATH')"
   ]
  },
  {
   "cell_type": "code",
   "execution_count": null,
   "metadata": {},
   "outputs": [],
   "source": [
    "# Update path with path to extracted faces\n",
    "resize_faces('FACE PATH')"
   ]
  }
 ],
 "metadata": {
  "kernelspec": {
   "display_name": "Python 3",
   "language": "python",
   "name": "python3"
  },
  "language_info": {
   "codemirror_mode": {
    "name": "ipython",
    "version": 3
   },
   "file_extension": ".py",
   "mimetype": "text/x-python",
   "name": "python",
   "nbconvert_exporter": "python",
   "pygments_lexer": "ipython3",
   "version": "3.7.9"
  }
 },
 "nbformat": 4,
 "nbformat_minor": 4
}
