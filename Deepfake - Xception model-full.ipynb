{
 "cells": [
  {
   "cell_type": "code",
   "execution_count": 1,
   "metadata": {},
   "outputs": [],
   "source": [
    "import tensorflow as tf\n",
    "import numpy as np\n",
    "import seaborn as sn\n",
    "import pandas as pd\n",
    "import matplotlib.pyplot as plt\n",
    "\n",
    "from sklearn.metrics import classification_report, confusion_matrix, plot_confusion_matrix, precision_recall_curve, roc_curve, roc_auc_score\n",
    "\n",
    "from tensorflow import keras as K\n",
    "from tensorflow.keras.models import Model\n",
    "from tensorflow.keras.layers import Dense, GlobalMaxPooling2D\n",
    "from tensorflow.keras.preprocessing.image import ImageDataGenerator"
   ]
  },
  {
   "cell_type": "code",
   "execution_count": 2,
   "metadata": {},
   "outputs": [],
   "source": [
    "#Pretrained Xception model in Keras, input shape set as 200,200,3, Removed top softmax layer\n",
    "xception_model = K.applications.Xception(\n",
    "    weights='imagenet',  \n",
    "    input_shape=(200, 200, 3),\n",
    "    include_top=False)"
   ]
  },
  {
   "cell_type": "code",
   "execution_count": 3,
   "metadata": {},
   "outputs": [],
   "source": [
    "#Freeze or unfreeze base layer\n",
    "xception_model.trainable=True"
   ]
  },
  {
   "cell_type": "code",
   "execution_count": 4,
   "metadata": {},
   "outputs": [],
   "source": [
    "#Add a Max Pooling layer, followed by a sigmoid output layer\n",
    "x = xception_model.output\n",
    "x = GlobalMaxPooling2D()(x)\n",
    "predictions = Dense(1, activation='sigmoid')(x)\n",
    "model = Model(inputs=xception_model.input, outputs=predictions)"
   ]
  },
  {
   "cell_type": "code",
   "execution_count": 5,
   "metadata": {},
   "outputs": [],
   "source": [
    "#Compiling model with Adam optimizer and binary crossentropy loss function\n",
    "model.compile(optimizer='adam', loss='binary_crossentropy', metrics=['accuracy'])"
   ]
  },
  {
   "cell_type": "code",
   "execution_count": 51,
   "metadata": {},
   "outputs": [],
   "source": [
    "#This is only used when loading model weights to test other datasets\n",
    "model.load_weights('celeb.h5') "
   ]
  },
  {
   "cell_type": "code",
   "execution_count": 7,
   "metadata": {},
   "outputs": [],
   "source": [
    "# Train Generator\n",
    "train_datagen = ImageDataGenerator()"
   ]
  },
  {
   "cell_type": "code",
   "execution_count": 8,
   "metadata": {},
   "outputs": [],
   "source": [
    "# Val Generator\n",
    "val_datagen = ImageDataGenerator()"
   ]
  },
  {
   "cell_type": "code",
   "execution_count": 11,
   "metadata": {},
   "outputs": [
    {
     "name": "stdout",
     "output_type": "stream",
     "text": [
      "Found 62704 images belonging to 2 classes.\n"
     ]
    }
   ],
   "source": [
    "# Load training data\n",
    "train_generator = train_datagen.flow_from_directory(\n",
    "        'D:/data/Celeb-DF/CelebDF_train',  # this is the target directory  \n",
    "        batch_size=16,\n",
    "        class_mode='binary',\n",
    "    shuffle=True)"
   ]
  },
  {
   "cell_type": "code",
   "execution_count": 12,
   "metadata": {},
   "outputs": [
    {
     "name": "stdout",
     "output_type": "stream",
     "text": [
      "Found 15675 images belonging to 2 classes.\n"
     ]
    }
   ],
   "source": [
    "# Load validation data (Set shuffle to False when purpose is to get metrics)\n",
    "val_generator = val_datagen.flow_from_directory(\n",
    "        'D:/data/facefor/FaceForensics_compressed/val200',  # this is the target directory  \n",
    "        batch_size=16,\n",
    "        class_mode='binary',\n",
    "    shuffle=True)"
   ]
  },
  {
   "cell_type": "code",
   "execution_count": null,
   "metadata": {},
   "outputs": [],
   "source": [
    "D:/data/facefor/FaceForensics_compressed/val200\n",
    "D:/data/Deepfake Detection Challenge/dfdc_train_part_0/DFDC val\n",
    "D:/data/Celeb-DF/CelebDF_val"
   ]
  },
  {
   "cell_type": "code",
   "execution_count": 52,
   "metadata": {},
   "outputs": [
    {
     "name": "stdout",
     "output_type": "stream",
     "text": [
      "Found 15675 images belonging to 2 classes.\n"
     ]
    }
   ],
   "source": [
    "val_generator = val_datagen.flow_from_directory(\n",
    "        'D:/data/Celeb-DF/CelebDF_val',  # this is the target directory  \n",
    "        batch_size=16,\n",
    "        class_mode='binary',\n",
    "shuffle=False)"
   ]
  },
  {
   "cell_type": "code",
   "execution_count": null,
   "metadata": {},
   "outputs": [],
   "source": [
    "celeb2.h5\n",
    "dfdc2.h5\n",
    "Xception15epochs.h5"
   ]
  },
  {
   "cell_type": "code",
   "execution_count": 13,
   "metadata": {
    "scrolled": true
   },
   "outputs": [
    {
     "name": "stdout",
     "output_type": "stream",
     "text": [
      "WARNING:tensorflow:sample_weight modes were coerced from\n",
      "  ...\n",
      "    to  \n",
      "  ['...']\n",
      "WARNING:tensorflow:sample_weight modes were coerced from\n",
      "  ...\n",
      "    to  \n",
      "  ['...']\n",
      "Train for 3919 steps, validate for 980 steps\n",
      "Epoch 1/15\n",
      "3919/3919 [==============================] - 1563s 399ms/step - loss: 0.1243 - accuracy: 0.9528 - val_loss: 0.2414 - val_accuracy: 0.9028\n",
      "Epoch 2/15\n",
      "3919/3919 [==============================] - 1451s 370ms/step - loss: 0.0435 - accuracy: 0.9856 - val_loss: 0.3868 - val_accuracy: 0.9163\n",
      "Epoch 3/15\n",
      "3919/3919 [==============================] - 1430s 365ms/step - loss: 0.0293 - accuracy: 0.9899 - val_loss: 0.6812 - val_accuracy: 0.8560\n",
      "Epoch 4/15\n",
      "3919/3919 [==============================] - 1423s 363ms/step - loss: 0.0220 - accuracy: 0.9924 - val_loss: 0.7264 - val_accuracy: 0.8205\n",
      "Epoch 5/15\n",
      "3919/3919 [==============================] - 1426s 364ms/step - loss: 0.0150 - accuracy: 0.9948 - val_loss: 0.1203 - val_accuracy: 0.9656\n",
      "Epoch 6/15\n",
      "3919/3919 [==============================] - 1342s 343ms/step - loss: 0.0131 - accuracy: 0.9955 - val_loss: 0.4918 - val_accuracy: 0.8807\n",
      "Epoch 7/15\n",
      "3919/3919 [==============================] - 1486s 379ms/step - loss: 0.0115 - accuracy: 0.9964 - val_loss: 0.3131 - val_accuracy: 0.9153\n",
      "Epoch 8/15\n",
      "3919/3919 [==============================] - 1482s 378ms/step - loss: 0.0103 - accuracy: 0.9965 - val_loss: 0.2811 - val_accuracy: 0.9334\n",
      "Epoch 9/15\n",
      "3919/3919 [==============================] - 1357s 346ms/step - loss: 0.0084 - accuracy: 0.9973 - val_loss: 0.2127 - val_accuracy: 0.9420\n",
      "Epoch 10/15\n",
      "3919/3919 [==============================] - 1345s 343ms/step - loss: 0.0072 - accuracy: 0.9975 - val_loss: 0.2118 - val_accuracy: 0.9481\n",
      "Epoch 11/15\n",
      "3919/3919 [==============================] - 4383s 1s/step - loss: 0.0070 - accuracy: 0.9974 - val_loss: 0.2687 - val_accuracy: 0.9335\n",
      "Epoch 12/15\n",
      "3919/3919 [==============================] - 4920s 1s/step - loss: 0.0071 - accuracy: 0.9978 - val_loss: 0.1930 - val_accuracy: 0.9462\n",
      "Epoch 13/15\n",
      "3919/3919 [==============================] - 4801s 1s/step - loss: 0.0059 - accuracy: 0.9979 - val_loss: 0.1695 - val_accuracy: 0.9603\n",
      "Epoch 14/15\n",
      "3919/3919 [==============================] - 4748s 1s/step - loss: 0.0065 - accuracy: 0.9980 - val_loss: 0.1807 - val_accuracy: 0.9529\n",
      "Epoch 15/15\n",
      "3919/3919 [==============================] - 4756s 1s/step - loss: 0.0045 - accuracy: 0.9986 - val_loss: 0.1915 - val_accuracy: 0.9537\n"
     ]
    }
   ],
   "source": [
    "#Model is trained for 15 epochs, weights are saved\n",
    "model.fit(x=train_generator, \n",
    "    epochs=15,\n",
    "    verbose=1,\n",
    "    shuffle=True,\n",
    "    validation_data = val_generator\n",
    ")\n",
    "model.save_weights('celeb2.h5') "
   ]
  },
  {
   "cell_type": "code",
   "execution_count": 33,
   "metadata": {},
   "outputs": [
    {
     "name": "stdout",
     "output_type": "stream",
     "text": [
      "WARNING:tensorflow:sample_weight modes were coerced from\n",
      "  ...\n",
      "    to  \n",
      "  ['...']\n",
      "980/980 [==============================] - 65s 67ms/step - loss: 5.2009 - accuracy: 0.7162\n"
     ]
    },
    {
     "data": {
      "text/plain": [
       "[5.2009124352131595, 0.7161723]"
      ]
     },
     "execution_count": 33,
     "metadata": {},
     "output_type": "execute_result"
    }
   ],
   "source": [
    "#Model can be evaluated on other datasets.\n",
    "model.evaluate(\n",
    "    x=val_generator,\n",
    "    verbose=1,\n",
    ")"
   ]
  },
  {
   "cell_type": "code",
   "execution_count": 53,
   "metadata": {},
   "outputs": [
    {
     "name": "stdout",
     "output_type": "stream",
     "text": [
      "980/980 [==============================] - 64s 66ms/step\n"
     ]
    }
   ],
   "source": [
    "#Model predictions can be saved (similar to evaluate) for use in calculation of metrics, Make sure to set Val Generator shuffling to False\n",
    "preds = model.predict(\n",
    "    x=val_generator,\n",
    "    verbose=1,\n",
    "    steps=None,\n",
    "    callbacks=None,\n",
    "    max_queue_size=10,\n",
    "    workers=1,\n",
    "    use_multiprocessing=False,\n",
    ")"
   ]
  },
  {
   "cell_type": "code",
   "execution_count": null,
   "metadata": {},
   "outputs": [],
   "source": [
    "preds, truth = np."
   ]
  },
  {
   "cell_type": "code",
   "execution_count": 46,
   "metadata": {},
   "outputs": [],
   "source": [
    "preds_rounded = np.round(preds)"
   ]
  },
  {
   "cell_type": "code",
   "execution_count": 47,
   "metadata": {},
   "outputs": [],
   "source": [
    "cm = confusion_matrix(val_generator.classes, preds_rounded)"
   ]
  },
  {
   "cell_type": "code",
   "execution_count": 48,
   "metadata": {},
   "outputs": [
    {
     "data": {
      "image/png": "[encoded data removed]",
      "text/plain": [
       "<Figure size 432x288 with 1 Axes>"
      ]
     },
     "metadata": {
      "needs_background": "light"
     },
     "output_type": "display_data"
    }
   ],
   "source": [
    "df_cm = pd.DataFrame(cm, index=[\"Label Fake\", \"Label Real\"], columns=[\"Predict Fake\", \"Predict Real\"])\n",
    "sn.heatmap(df_cm, annot=True, cmap=\"YlGnBu\", fmt=\"g\", annot_kws={\"size\": 16}, cbar=False) # font size\n",
    "plt.show()"
   ]
  },
  {
   "cell_type": "code",
   "execution_count": 13,
   "metadata": {},
   "outputs": [],
   "source": [
    "tn, fp, fn, tp = confusion_matrix(val_generator.classes, preds_rounded).ravel()"
   ]
  },
  {
   "cell_type": "code",
   "execution_count": 14,
   "metadata": {},
   "outputs": [
    {
     "name": "stdout",
     "output_type": "stream",
     "text": [
      "              precision    recall  f1-score   support\n",
      "\n",
      "           0    0.97142   0.96362   0.96750     11215\n",
      "           1    0.91033   0.92870   0.91942      4460\n",
      "\n",
      "    accuracy                        0.95368     15675\n",
      "   macro avg    0.94087   0.94616   0.94346     15675\n",
      "weighted avg    0.95403   0.95368   0.95382     15675\n",
      "\n"
     ]
    }
   ],
   "source": [
    "print(classification_report(val_generator.classes, preds_rounded,digits=5))"
   ]
  },
  {
   "cell_type": "code",
   "execution_count": 30,
   "metadata": {},
   "outputs": [],
   "source": [
    "#Celeb\n",
    "fpr3, tpr3, th3 = roc_curve(val_generator.classes, preds)"
   ]
  },
  {
   "cell_type": "code",
   "execution_count": 16,
   "metadata": {},
   "outputs": [],
   "source": [
    "#FF\n",
    "fpr, tpr, th = roc_curve(val_generator.classes, preds)"
   ]
  },
  {
   "cell_type": "code",
   "execution_count": 48,
   "metadata": {},
   "outputs": [
    {
     "data": {
      "text/plain": [
       "0.9946087913618427"
      ]
     },
     "execution_count": 48,
     "metadata": {},
     "output_type": "execute_result"
    }
   ],
   "source": [
    "roc_auc_score(val_generator.classes, preds_rounded)"
   ]
  },
  {
   "cell_type": "code",
   "execution_count": 25,
   "metadata": {},
   "outputs": [],
   "source": [
    "#DFDC\n",
    "fpr2, tpr2, th2 = roc_curve(val_generator.classes, preds)"
   ]
  },
  {
   "cell_type": "code",
   "execution_count": 35,
   "metadata": {},
   "outputs": [],
   "source": [
    "dfdcfpr = pd.read_csv('C:/Users/harry/Desktop/Project/Surajit parts/dfdcfpr.csv')\n",
    "dfdcfpr = dfdcfpr.to_numpy()"
   ]
  },
  {
   "cell_type": "code",
   "execution_count": 36,
   "metadata": {},
   "outputs": [],
   "source": [
    "dfdctpr = pd.read_csv('C:/Users/harry/Desktop/Project/Surajit parts/dfdctpr.csv')\n",
    "dfdctpr = dfdctpr.to_numpy()"
   ]
  },
  {
   "cell_type": "code",
   "execution_count": 15,
   "metadata": {},
   "outputs": [
    {
     "data": {
      "text/plain": [
       "array([[0.        ],\n",
       "       [0.        ],\n",
       "       [0.00314465],\n",
       "       [0.00314465],\n",
       "       [0.00628931],\n",
       "       [0.00628931],\n",
       "       [0.00943396],\n",
       "       [0.00943396],\n",
       "       [0.01257862],\n",
       "       [0.01257862],\n",
       "       [0.02201258],\n",
       "       [0.02201258],\n",
       "       [0.02515723],\n",
       "       [0.02515723],\n",
       "       [0.03144654],\n",
       "       [0.03144654],\n",
       "       [0.03459119],\n",
       "       [0.03459119],\n",
       "       [0.0408805 ],\n",
       "       [0.0408805 ],\n",
       "       [0.04402516],\n",
       "       [0.04402516],\n",
       "       [0.04716981],\n",
       "       [0.04716981],\n",
       "       [0.05660377],\n",
       "       [0.05660377],\n",
       "       [0.06289308],\n",
       "       [0.06289308],\n",
       "       [0.07861635],\n",
       "       [0.07861635],\n",
       "       [0.08805031],\n",
       "       [0.10062893],\n",
       "       [0.10691824],\n",
       "       [0.10691824],\n",
       "       [0.11006289],\n",
       "       [0.11006289],\n",
       "       [0.11320755],\n",
       "       [0.11320755],\n",
       "       [0.11949685],\n",
       "       [0.11949685],\n",
       "       [0.13207547],\n",
       "       [0.13207547],\n",
       "       [0.1509434 ],\n",
       "       [0.1509434 ],\n",
       "       [0.16666667],\n",
       "       [0.16666667],\n",
       "       [0.17295598],\n",
       "       [0.17295598],\n",
       "       [0.18238994],\n",
       "       [0.18238994],\n",
       "       [0.18553459],\n",
       "       [0.18553459],\n",
       "       [0.1918239 ],\n",
       "       [0.1918239 ],\n",
       "       [0.20754717],\n",
       "       [0.20754717],\n",
       "       [0.22327044],\n",
       "       [0.22327044],\n",
       "       [0.25471698],\n",
       "       [0.25471698],\n",
       "       [0.25786163],\n",
       "       [0.25786163],\n",
       "       [0.27044025],\n",
       "       [0.27044025],\n",
       "       [0.28616352],\n",
       "       [0.28616352],\n",
       "       [0.3081761 ],\n",
       "       [0.3081761 ],\n",
       "       [0.31132076],\n",
       "       [0.31132076],\n",
       "       [0.33018868],\n",
       "       [0.33018868],\n",
       "       [0.35849057],\n",
       "       [0.35849057],\n",
       "       [0.42138365],\n",
       "       [0.42138365],\n",
       "       [0.43710692],\n",
       "       [0.43710692],\n",
       "       [0.53459119],\n",
       "       [0.53459119],\n",
       "       [0.5408805 ],\n",
       "       [0.5408805 ],\n",
       "       [0.54402516],\n",
       "       [0.54402516],\n",
       "       [0.56918239],\n",
       "       [0.56918239],\n",
       "       [0.57232704],\n",
       "       [0.57232704],\n",
       "       [0.58176101],\n",
       "       [0.58176101],\n",
       "       [0.62893082],\n",
       "       [0.62893082],\n",
       "       [0.66981132],\n",
       "       [0.66981132],\n",
       "       [0.72327044],\n",
       "       [0.72327044],\n",
       "       [0.72641509],\n",
       "       [0.72641509],\n",
       "       [0.77987421],\n",
       "       [0.77987421],\n",
       "       [0.83962264],\n",
       "       [0.83962264],\n",
       "       [0.89308176],\n",
       "       [0.89308176],\n",
       "       [1.        ],\n",
       "       [1.        ]])"
      ]
     },
     "execution_count": 15,
     "metadata": {},
     "output_type": "execute_result"
    }
   ],
   "source": [
    "celebfpr"
   ]
  },
  {
   "cell_type": "code",
   "execution_count": null,
   "metadata": {},
   "outputs": [],
   "source": []
  },
  {
   "cell_type": "code",
   "execution_count": 38,
   "metadata": {},
   "outputs": [
    {
     "data": {
      "image/png": "[encoded data removed]",
      "text/plain": [
       "<Figure size 432x288 with 1 Axes>"
      ]
     },
     "metadata": {
      "needs_background": "light"
     },
     "output_type": "display_data"
    }
   ],
   "source": [
    "plt.plot(fpr, tpr, linewidth=2, label=\"FaceForensics++ - Xception\")\n",
    "plt.plot(fpr2,tpr2,linewidth=2, label=\"DFDC - Xception\")\n",
    "plt.plot(fpr3,tpr3,linewidth=2, label=\"Celeb-DF - Xception\")\n",
    "plt.plot(fffpr, fftpr, linewidth=2, label=\"FaceForensics++ - SVM\")\n",
    "plt.plot(dfdcfpr, dfdctpr, linewidth=2, label=\"DFDC - SVM\")\n",
    "plt.plot(celebfpr, celebtpr, linewidth=2, label=\"Celeb-DF - SVM\")\n",
    "plt.plot([0,1], [0,1], 'k--')\n",
    "plt.legend(loc=\"lower right\")\n",
    "plt.xlabel(\"False Positive Rate\")\n",
    "plt.ylabel(\"True Positive Rate\")\n",
    "plt.grid(True)\n",
    "plt.show()"
   ]
  },
  {
   "cell_type": "code",
   "execution_count": 43,
   "metadata": {},
   "outputs": [],
   "source": [
    "#FF\n",
    "precision, recall, thresholds = precision_recall_curve(val_generator.classes, preds)"
   ]
  },
  {
   "cell_type": "code",
   "execution_count": 49,
   "metadata": {},
   "outputs": [],
   "source": [
    "#DFDC\n",
    "precision2, recall2, thresholds2 = precision_recall_curve(val_generator.classes, preds)"
   ]
  },
  {
   "cell_type": "code",
   "execution_count": 54,
   "metadata": {},
   "outputs": [],
   "source": [
    "#Celeb\n",
    "precision3, recall3, thresholds3 = precision_recall_curve(val_generator.classes, preds)"
   ]
  },
  {
   "cell_type": "code",
   "execution_count": 55,
   "metadata": {},
   "outputs": [
    {
     "data": {
      "image/png": "[encoded data removed]",
      "text/plain": [
       "<Figure size 432x288 with 1 Axes>"
      ]
     },
     "metadata": {
      "needs_background": "light"
     },
     "output_type": "display_data"
    }
   ],
   "source": [
    "\n",
    "plt.plot(recall, precision, linewidth=2, label=\"FaceForensics++ - Xception\")\n",
    "plt.plot(recall2, precision2, linewidth=2, label=\"DFDC - Xception\")\n",
    "plt.plot(recall3, precision3, linewidth=2, label=\"Celeb-DF - Xception\")\n",
    "plt.grid(True)\n",
    "plt.legend(loc=\"lower left\")\n",
    "#ax.set_xlim(self, left=None, right=None, emit=True, auto=False, xmin=None, xmax=1.01)\n",
    "#ax.set_xlim(right=1.2)\n",
    "plt.xlabel(\"Recall\")\n",
    "plt.ylabel(\"Precision\")\n",
    "plt.show()"
   ]
  },
  {
   "cell_type": "code",
   "execution_count": null,
   "metadata": {},
   "outputs": [],
   "source": []
  }
 ],
 "metadata": {
  "kernelspec": {
   "display_name": "Python 3",
   "language": "python",
   "name": "python3"
  },
  "language_info": {
   "codemirror_mode": {
    "name": "ipython",
    "version": 3
   },
   "file_extension": ".py",
   "mimetype": "text/x-python",
   "name": "python",
   "nbconvert_exporter": "python",
   "pygments_lexer": "ipython3",
   "version": "3.7.9"
  }
 },
 "nbformat": 4,
 "nbformat_minor": 4
}
