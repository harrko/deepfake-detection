{
 "cells": [
  {
   "cell_type": "code",
   "execution_count": null,
   "metadata": {},
   "outputs": [],
   "source": [
    "import tensorflow as tf\n",
    "tf.compat.v1.disable_eager_execution()\n",
    "import numpy as np\n",
    "import cv2\n",
    "import glob\n",
    "\n",
    "from keras.preprocessing import image\n",
    "from keras.applications.vgg16 import preprocess_input, decode_predictions\n",
    "from tensorflow import keras as K\n",
    "from tensorflow.keras.models import Model\n",
    "from tensorflow.keras.layers import Dense, GlobalMaxPooling2D\n",
    "from tensorflow.keras.preprocessing.image import ImageDataGenerator"
   ]
  },
  {
   "cell_type": "code",
   "execution_count": null,
   "metadata": {},
   "outputs": [],
   "source": [
    "xception_model = K.applications.Xception(\n",
    "    weights='imagenet', \n",
    "    input_shape=(200, 200, 3),\n",
    "    include_top=False)\n",
    "x = xception_model.output\n",
    "x = GlobalMaxPooling2D()(x)\n",
    "predictions = Dense(1, activation='sigmoid')(x)\n",
    "model = Model(inputs=xception_model.input, outputs=predictions)\n",
    "model.compile(optimizer='adam', loss='binary_crossentropy', metrics=['accuracy'])"
   ]
  },
  {
   "cell_type": "code",
   "execution_count": null,
   "metadata": {},
   "outputs": [],
   "source": [
    "#Replace filename with the trained model to use\n",
    "model.load_weights('FILENAME.h5')"
   ]
  },
  {
   "cell_type": "code",
   "execution_count": null,
   "metadata": {},
   "outputs": [],
   "source": [
    "#The GradCam implementation is based on paper Grad-CAM: Visual Explanations from Deep Networks via Gradient-based Localization\n",
    "\n",
    "def heatmap(dirname):\n",
    "    count = 0\n",
    "    for img in glob.glob(f\"{dirname}/*.jpg\"):\n",
    "        face_org = cv2.imread(img)\n",
    "        face_res = cv2.resize(face_org, (200,200))\n",
    "        img = image.load_img(img, target_size=(200, 200))\n",
    "        x = image.img_to_array(img)\n",
    "        x = np.expand_dims(x, axis=0)\n",
    "        x = preprocess_input(x)\n",
    "        preds = model.predict(x=x,\n",
    "        verbose=1,\n",
    "        steps=None,\n",
    "        callbacks=None,\n",
    "        max_queue_size=10,\n",
    "        workers=1,\n",
    "        use_multiprocessing=False,\n",
    "        )\n",
    "        crop_output = model.output[:, 0]\n",
    "\n",
    "        last_conv_layer = model.get_layer('block14_sepconv1')\n",
    "\n",
    "        grads = K.backend.gradients(crop_output, last_conv_layer.output)[0]\n",
    "    \n",
    "        pooled_grads = K.backend.mean(grads, axis=(0, 1, 2))\n",
    "\n",
    "        iterate = K.backend.function([model.input], [pooled_grads, last_conv_layer.output[0]])\n",
    "\n",
    "        pooled_grads_value, conv_layer_output_value = iterate([x])\n",
    "\n",
    "        for i in range(512):\n",
    "            conv_layer_output_value[:, :, i] *= pooled_grads_value[i]\n",
    "\n",
    "        heatmap = np.mean(conv_layer_output_value, axis=-1)\n",
    "        heatmap = np.maximum(heatmap, 0)\n",
    "        heatmap /= np.max(heatmap)\n",
    "  \n",
    "        img = face_org\n",
    "\n",
    "        heatmap = cv2.resize(heatmap, (img.shape[1], img.shape[0]))\n",
    "\n",
    "        heatmap = np.uint8(255 * heatmap)\n",
    "\n",
    "        heatmap = cv2.applyColorMap(heatmap, cv2.COLORMAP_JET)\n",
    "\n",
    "        superimposed_img = heatmap * 0.4 + img\n",
    "        \n",
    "#Replace path with path to folder where to store the overlay images\n",
    "        cv2.imwrite('WRITE PATH/%imposed.jpg' % count, superimposed_img)\n",
    "        count += 1"
   ]
  },
  {
   "cell_type": "code",
   "execution_count": null,
   "metadata": {},
   "outputs": [],
   "source": [
    "#Replace path with the path to source folder\n",
    "heatmap('SOURCE PATH')"
   ]
  },
  {
   "cell_type": "code",
   "execution_count": null,
   "metadata": {},
   "outputs": [],
   "source": []
  }
 ],
 "metadata": {
  "kernelspec": {
   "display_name": "Python 3",
   "language": "python",
   "name": "python3"
  },
  "language_info": {
   "codemirror_mode": {
    "name": "ipython",
    "version": 3
   },
   "file_extension": ".py",
   "mimetype": "text/x-python",
   "name": "python",
   "nbconvert_exporter": "python",
   "pygments_lexer": "ipython3",
   "version": "3.7.9"
  }
 },
 "nbformat": 4,
 "nbformat_minor": 4
}
